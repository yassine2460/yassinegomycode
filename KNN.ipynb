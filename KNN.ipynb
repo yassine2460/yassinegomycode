{
 "cells": [
  {
   "cell_type": "code",
   "execution_count": 3,
   "metadata": {},
   "outputs": [
    {
     "name": "stdout",
     "output_type": "stream",
     "text": [
      "       0    1    2    3               4\n",
      "0    5.1  3.5  1.4  0.2     Iris-setosa\n",
      "1    4.9    3  1.4  0.2     Iris-setosa\n",
      "2    4.7  3.2  1.3  0.2     Iris-setosa\n",
      "3    4.6  3.1  1.5  0.2     Iris-setosa\n",
      "4      5  3.6  1.4  0.2     Iris-setosa\n",
      "..   ...  ...  ...  ...             ...\n",
      "145  6.7    3  5.2  2.3  Iris-virginica\n",
      "146  6.3  2.5    5  1.9  Iris-virginica\n",
      "147  6.5    3  5.2    2  Iris-virginica\n",
      "148  6.2  3.4  5.4  2.3  Iris-virginica\n",
      "149  5.9  3.0  5.1  1.8  Iris-virginica\n",
      "\n",
      "[150 rows x 5 columns]\n"
     ]
    }
   ],
   "source": [
    "import csv \n",
    "import random \n",
    "import pandas as pd\n",
    "import math\n",
    "import operator\n",
    "def loadDataset(filename,split,trainingSet = [], testingSet = []):\n",
    "    with open(filename,\"r\") as csvfile:\n",
    "        lines = csv.reader(csvfile)\n",
    "        dataset = list(lines)\n",
    "        for x in range(len(dataset) - 1):\n",
    "            for y in range(4):\n",
    "                dataset[x][y] = float(dataset[x][y])\n",
    "            if random.random() < split:\n",
    "                trainingSet.append(dataset[x])\n",
    "            else:\n",
    "                testingSet.append(dataset[x])\n",
    "        return dataset,trainingSet,testingSet\n",
    "    \n",
    "with open(\"iris.data.txt\") as csvfile:\n",
    "    lines = csv.reader(csvfile)\n",
    "    d,t,tt = loadDataset(\"iris.data.txt\",0.5)\n",
    "    data = pd.DataFrame(d)\n",
    "print(data)"
   ]
  },
  {
   "cell_type": "code",
   "execution_count": 7,
   "metadata": {},
   "outputs": [
    {
     "name": "stdout",
     "output_type": "stream",
     "text": [
      "Distance : 6.0\n"
     ]
    }
   ],
   "source": [
    "def distance(instance1,instance2, method,length,p = 1):\n",
    "    x = 0\n",
    "    for i in range(length): #length is equal to len(instance1[0]) - 1  \n",
    "        if(method == \"minkowski\"):\n",
    "            x += ((abs(instance1[i] - instance2[i]))**p)**1/p\n",
    "        elif(method == \"manhattan\"):\n",
    "            x += abs(instance1[i] - instance2[i])\n",
    "        else: #We select the euclidean distance method as the default one (We can do it through parameters)\n",
    "            x += math.sqrt((instance1[i] - instance2[i])**2)\n",
    "\n",
    "    return x\n",
    "\n",
    "data1 = [2, 2, 2, 'a']\n",
    "data2 = [4, 4, 4, 'b']\n",
    "distc = distance(data1, data2,\"euclidean\",3)\n",
    "\n",
    "print(\"Distance : \" + repr(distc))\n"
   ]
  },
  {
   "cell_type": "code",
   "execution_count": 10,
   "metadata": {},
   "outputs": [
    {
     "name": "stdout",
     "output_type": "stream",
     "text": [
      "[[4, 4, 4, 'b']]\n"
     ]
    }
   ],
   "source": [
    "def getNeighbors(trainingSet, testInstance,method, k = 1,p = 1):\n",
    "    distances = []\n",
    "    length = len(testInstance)-1\n",
    "    for x in range(len(trainingSet)):\n",
    "        dist = distance(testInstance, trainingSet[x], method,length,p)\n",
    "        distances.append((trainingSet[x], dist))\n",
    "    distances.sort(key=operator.itemgetter(1))\n",
    "    neighbors = []\n",
    "    for x in range(k):\n",
    "        neighbors.append(distances[x][0])\n",
    "    return neighbors\n",
    "\n",
    "trainSet = [[2, 2, 2, 'a'], [4, 4, 4, 'b']]\n",
    "testInstance = [5, 5, 5]\n",
    "k = 1\n",
    "neighbors = getNeighbors(trainSet, testInstance,\"manhattan\")\n",
    "print(neighbors)"
   ]
  },
  {
   "cell_type": "code",
   "execution_count": 11,
   "metadata": {},
   "outputs": [
    {
     "name": "stdout",
     "output_type": "stream",
     "text": [
      "a\n"
     ]
    }
   ],
   "source": [
    "def getResponse(neighbors):\n",
    "    classVotes = {}\n",
    "    for i in range(len(neighbors)):\n",
    "        response = neighbors[i][len(neighbors[i]) - 1]\n",
    "        if response in classVotes:\n",
    "            classVotes[response] += 1\n",
    "        else:\n",
    "            classVotes[response] = 0\n",
    "    sortedVotes = sorted(classVotes.items(), key=operator.itemgetter(1), reverse=True)\n",
    "    if(len(sortedVotes) >= 2):\n",
    "        if(sortedVotes[0][1] == sortedVotes[1][1]):\n",
    "                pass\n",
    "        else:\n",
    "            return sortedVotes[0][0]\n",
    "    else:\n",
    "        return sortedVotes[0][0]\n",
    "\n",
    "neighbors = [[1,1,1,'a'], [2,2,2,'a'], [3,3,3,'b']]\n",
    "response = getResponse(neighbors)\n",
    "print(response)"
   ]
  },
  {
   "cell_type": "code",
   "execution_count": 12,
   "metadata": {},
   "outputs": [
    {
     "name": "stdout",
     "output_type": "stream",
     "text": [
      "66.66666666666666\n"
     ]
    }
   ],
   "source": [
    "def getAccuracy(testSet,predictions):\n",
    "    score = 0\n",
    "    for i in range(len(predictions)):\n",
    "        if(predictions[i] in testSet[i]):\n",
    "            score += 1\n",
    "    return (score/float(len(testSet))) * 100.0\n",
    "\n",
    "testSet = [[1,1,1,'a'], [2,2,2,'a'], [3,3,3,'b']]\n",
    "predictions = ['a', 'a', 'a']\n",
    "accuracy = getAccuracy(testSet, predictions)\n",
    "print(accuracy)"
   ]
  },
  {
   "cell_type": "code",
   "execution_count": 13,
   "metadata": {},
   "outputs": [
    {
     "name": "stdout",
     "output_type": "stream",
     "text": [
      "Accuracy  :  90.58823529411765\n"
     ]
    },
    {
     "data": {
      "text/html": [
       "<div>\n",
       "<style scoped>\n",
       "    .dataframe tbody tr th:only-of-type {\n",
       "        vertical-align: middle;\n",
       "    }\n",
       "\n",
       "    .dataframe tbody tr th {\n",
       "        vertical-align: top;\n",
       "    }\n",
       "\n",
       "    .dataframe thead th {\n",
       "        text-align: right;\n",
       "    }\n",
       "</style>\n",
       "<table border=\"1\" class=\"dataframe\">\n",
       "  <thead>\n",
       "    <tr style=\"text-align: right;\">\n",
       "      <th></th>\n",
       "      <th>Predictions</th>\n",
       "    </tr>\n",
       "  </thead>\n",
       "  <tbody>\n",
       "    <tr>\n",
       "      <th>0</th>\n",
       "      <td>Iris-setosa</td>\n",
       "    </tr>\n",
       "    <tr>\n",
       "      <th>1</th>\n",
       "      <td>Iris-setosa</td>\n",
       "    </tr>\n",
       "    <tr>\n",
       "      <th>2</th>\n",
       "      <td>Iris-setosa</td>\n",
       "    </tr>\n",
       "    <tr>\n",
       "      <th>3</th>\n",
       "      <td>Iris-setosa</td>\n",
       "    </tr>\n",
       "    <tr>\n",
       "      <th>4</th>\n",
       "      <td>Iris-setosa</td>\n",
       "    </tr>\n",
       "    <tr>\n",
       "      <th>...</th>\n",
       "      <td>...</td>\n",
       "    </tr>\n",
       "    <tr>\n",
       "      <th>80</th>\n",
       "      <td>None</td>\n",
       "    </tr>\n",
       "    <tr>\n",
       "      <th>81</th>\n",
       "      <td>Iris-virginica</td>\n",
       "    </tr>\n",
       "    <tr>\n",
       "      <th>82</th>\n",
       "      <td>Iris-versicolor</td>\n",
       "    </tr>\n",
       "    <tr>\n",
       "      <th>83</th>\n",
       "      <td>Iris-virginica</td>\n",
       "    </tr>\n",
       "    <tr>\n",
       "      <th>84</th>\n",
       "      <td>Iris-virginica</td>\n",
       "    </tr>\n",
       "  </tbody>\n",
       "</table>\n",
       "<p>85 rows × 1 columns</p>\n",
       "</div>"
      ],
      "text/plain": [
       "        Predictions\n",
       "0       Iris-setosa\n",
       "1       Iris-setosa\n",
       "2       Iris-setosa\n",
       "3       Iris-setosa\n",
       "4       Iris-setosa\n",
       "..              ...\n",
       "80             None\n",
       "81   Iris-virginica\n",
       "82  Iris-versicolor\n",
       "83   Iris-virginica\n",
       "84   Iris-virginica\n",
       "\n",
       "[85 rows x 1 columns]"
      ]
     },
     "execution_count": 13,
     "metadata": {},
     "output_type": "execute_result"
    }
   ],
   "source": [
    "def main(filename,split,k,method,p = 1):\n",
    "    dictionnaire_rps = {}\n",
    "    dataset,trainingSet,testingSet = loadDataset(filename,split,[],[])\n",
    "    dataset = pd.DataFrame(dataset)\n",
    "    for instance in testingSet:\n",
    "        neighbors = getNeighbors(trainingSet,instance,method,k,p)\n",
    "        dictionnaire_rps[tuple(instance)] = getResponse(neighbors)\n",
    "    print(\"Accuracy  : \", getAccuracy(testingSet,list(dictionnaire_rps.values())))\n",
    "    df = pd.DataFrame()\n",
    "    df[\"Predictions\"] = list(dictionnaire_rps.values()) \n",
    "    return df #If the value of the predictions is None then it means that the percentages in the majority vote were equal\n",
    "    \n",
    "main(\"iris.data.txt\",0.4,2,\"minkowski\",3)"
   ]
  },
  {
   "cell_type": "code",
   "execution_count": null,
   "metadata": {},
   "outputs": [],
   "source": []
  }
 ],
 "metadata": {
  "kernelspec": {
   "display_name": "Python 3",
   "language": "python",
   "name": "python3"
  },
  "language_info": {
   "codemirror_mode": {
    "name": "ipython",
    "version": 3
   },
   "file_extension": ".py",
   "mimetype": "text/x-python",
   "name": "python",
   "nbconvert_exporter": "python",
   "pygments_lexer": "ipython3",
   "version": "3.8.3"
  }
 },
 "nbformat": 4,
 "nbformat_minor": 4
}
